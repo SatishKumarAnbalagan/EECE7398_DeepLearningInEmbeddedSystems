{
  "nbformat": 4,
  "nbformat_minor": 0,
  "metadata": {
    "colab": {
      "name": "HED.ipynb",
      "provenance": [],
      "collapsed_sections": [],
      "authorship_tag": "ABX9TyPPyajcZYyqfMl19gMcSQLW",
      "include_colab_link": true
    },
    "kernelspec": {
      "name": "python3",
      "display_name": "Python 3"
    },
    "accelerator": "GPU"
  },
  "cells": [
    {
      "cell_type": "markdown",
      "metadata": {
        "id": "view-in-github",
        "colab_type": "text"
      },
      "source": [
        "<a href=\"https://colab.research.google.com/github/SatishKumarAnbalagan/EECE7398_DeepLearningInEmbeddedSystems/blob/master/HED.ipynb\" target=\"_parent\"><img src=\"https://colab.research.google.com/assets/colab-badge.svg\" alt=\"Open In Colab\"/></a>"
      ]
    },
    {
      "cell_type": "markdown",
      "metadata": {
        "id": "chbFbfyOgPD3",
        "colab_type": "text"
      },
      "source": [
        "Holistic Edge Detection(HED)"
      ]
    },
    {
      "cell_type": "code",
      "metadata": {
        "id": "OuGEyEt00edF",
        "colab_type": "code",
        "colab": {}
      },
      "source": [
        "# This is an entire cell interpreted as a shell script. You don't need to prepend each line with the '!' character\n",
        "%%shell\n",
        "pip install gitpython\n",
        "pip install python-resize-image\n",
        "pip install appdirs"
      ],
      "execution_count": 0,
      "outputs": []
    },
    {
      "cell_type": "code",
      "metadata": {
        "id": "bRQDUa9qZiXj",
        "colab_type": "code",
        "colab": {}
      },
      "source": [
        "import matplotlib.pyplot as plt\n",
        "import matplotlib.image as mpimg\n",
        "import glob\n",
        "from google.colab import drive\n",
        "from git import Repo\n",
        "\n",
        "\n",
        "DIR_PATH = '/content/gdrive/'\n",
        "OUTPUT_PATH= '/content/Repo/HED/output/*'\n",
        "\n",
        "drive.mount(DIR_PATH)\n"
      ],
      "execution_count": 0,
      "outputs": []
    },
    {
      "cell_type": "code",
      "metadata": {
        "id": "p1MKaoLlf8Ml",
        "colab_type": "code",
        "colab": {}
      },
      "source": [
        "# This is an entire cell interpreted as a shell script. You don't need to prepend each line with the '!' character\n",
        "%%shell\n",
        "export GIT_URL=https://github.com/SatishKumarAnbalagan/EECE7398_DeepLearningInEmbeddedSystems.git\n",
        "export REPO_PATH=/content/Repo\n",
        "\n",
        "rm -r $REPO_PATH\n",
        "\n",
        "git clone -v $GIT_URL $REPO_PATH\n",
        "\n",
        "sh $REPO_PATH/HED/download.sh $REPO_PATH/HED\n",
        "\n",
        "python $REPO_PATH/HED/downloadCityScape.py gtFine_trainvaltest.zip --destination_path $REPO_PATH/HED/input/\n",
        "\n",
        "mkdir $REPO_PATH/HED/input/gtFine_trainvaltest\n",
        "mkdir $REPO_PATH/HED/input/test\n",
        "unzip $REPO_PATH/HED/input/gtFine_trainvaltest.zip -d $REPO_PATH/HED/input/gtFine_trainvaltest/\n",
        "#find $REPO_PATH/HED/input/gtFine_trainvaltest/gtFine/train/ -name \"*.png\" -exec cp {} $REPO_PATH/HED/input/test/ \\;\n",
        "find $REPO_PATH/HED/input/gtFine_trainvaltest/gtFine/val/ -name \"*.png\" -exec cp {} $REPO_PATH/HED/input/test/ \\;\n",
        "#find $REPO_PATH/HED/input/gtFine_trainvaltest/gtFine/test/ -name \"*.png\" -exec cp {} $REPO_PATH/HED/input/test/ \\;\n",
        "\n",
        "python $REPO_PATH/HED/run.py --model bsds500 --in $REPO_PATH/HED/input/test --out $REPO_PATH/HED/output"
      ],
      "execution_count": 0,
      "outputs": []
    },
    {
      "cell_type": "code",
      "metadata": {
        "id": "GpH39lKmR0Ea",
        "colab_type": "code",
        "colab": {}
      },
      "source": [
        "i=0\n",
        "for imageFile in glob.glob(OUTPUT_PATH):\n",
        "  i=i+1\n",
        "  image = mpimg.imread(imageFile) # images are color images\n",
        "  plt.imshow(image)\n",
        "  plt.title(str(i) + \" - \" + \"\".join(imageFile.split('/')[-1:]))\n",
        "  plt.show()"
      ],
      "execution_count": 0,
      "outputs": []
    },
    {
      "cell_type": "code",
      "metadata": {
        "id": "-0MTJbAs-ukc",
        "colab_type": "code",
        "colab": {}
      },
      "source": [
        "!rm -r ./Repo/HED/output/"
      ],
      "execution_count": 0,
      "outputs": []
    }
  ]
}